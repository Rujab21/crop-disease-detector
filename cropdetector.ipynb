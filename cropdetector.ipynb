{
 "cells": [
  {
   "cell_type": "code",
   "execution_count": 1,
   "id": "7a491169",
   "metadata": {},
   "outputs": [],
   "source": [
    "import tensorflow as tf\n",
    "\n",
    "# Load and re-save your model in HDF5 format (optional but cleaner for Colab)\n",
    "model = tf.keras.models.load_model(\"models/Cotton_Efficientnetb3.keras\", compile=False)\n",
    "\n"
   ]
  },
  {
   "cell_type": "code",
   "execution_count": 9,
   "id": "9ee304b8",
   "metadata": {},
   "outputs": [
    {
     "name": "stdout",
     "output_type": "stream",
     "text": [
      "Collecting opencv-python\n",
      "  Using cached opencv_python-4.12.0.88-cp37-abi3-win_amd64.whl.metadata (19 kB)\n",
      "Requirement already satisfied: numpy<2.3.0,>=2 in c:\\users\\pmls\\documents\\data analyst boot camp\\python\\venv\\lib\\site-packages (from opencv-python) (2.1.3)\n",
      "Using cached opencv_python-4.12.0.88-cp37-abi3-win_amd64.whl (39.0 MB)\n",
      "Installing collected packages: opencv-python\n",
      "Successfully installed opencv-python-4.12.0.88\n"
     ]
    }
   ],
   "source": [
    "!pip install opencv-python\n"
   ]
  },
  {
   "cell_type": "code",
   "execution_count": 2,
   "id": "ddaaa7e9",
   "metadata": {},
   "outputs": [
    {
     "name": "stdout",
     "output_type": "stream",
     "text": [
      "^C\n"
     ]
    },
    {
     "name": "stdout",
     "output_type": "stream",
     "text": [
      "Collecting streamlit\n",
      "  Using cached streamlit-1.49.1-py3-none-any.whl.metadata (9.5 kB)\n",
      "Collecting pyngrok\n",
      "  Downloading pyngrok-7.3.0-py3-none-any.whl.metadata (8.1 kB)\n",
      "Collecting altair!=5.4.0,!=5.4.1,<6,>=4.0 (from streamlit)\n",
      "  Using cached altair-5.5.0-py3-none-any.whl.metadata (11 kB)\n",
      "Requirement already satisfied: blinker<2,>=1.5.0 in c:\\users\\pmls\\documents\\data analyst boot camp\\python\\venv\\lib\\site-packages (from streamlit) (1.9.0)\n",
      "Collecting cachetools<7,>=4.0 (from streamlit)\n",
      "  Using cached cachetools-6.2.0-py3-none-any.whl.metadata (5.4 kB)\n",
      "Requirement already satisfied: click<9,>=7.0 in c:\\users\\pmls\\documents\\data analyst boot camp\\python\\venv\\lib\\site-packages (from streamlit) (8.2.1)\n",
      "Requirement already satisfied: numpy<3,>=1.23 in c:\\users\\pmls\\documents\\data analyst boot camp\\python\\venv\\lib\\site-packages (from streamlit) (2.1.3)\n",
      "Requirement already satisfied: packaging<26,>=20 in c:\\users\\pmls\\documents\\data analyst boot camp\\python\\venv\\lib\\site-packages (from streamlit) (24.2)\n",
      "Requirement already satisfied: pandas<3,>=1.4.0 in c:\\users\\pmls\\documents\\data analyst boot camp\\python\\venv\\lib\\site-packages (from streamlit) (2.2.3)\n",
      "Requirement already satisfied: pillow<12,>=7.1.0 in c:\\users\\pmls\\documents\\data analyst boot camp\\python\\venv\\lib\\site-packages (from streamlit) (11.1.0)\n",
      "Requirement already satisfied: protobuf<7,>=3.20 in c:\\users\\pmls\\documents\\data analyst boot camp\\python\\venv\\lib\\site-packages (from streamlit) (5.29.4)\n",
      "Collecting pyarrow>=7.0 (from streamlit)\n",
      "  Downloading pyarrow-21.0.0-cp312-cp312-win_amd64.whl.metadata (3.4 kB)\n",
      "Requirement already satisfied: requests<3,>=2.27 in c:\\users\\pmls\\documents\\data analyst boot camp\\python\\venv\\lib\\site-packages (from streamlit) (2.32.3)\n",
      "Collecting tenacity<10,>=8.1.0 (from streamlit)\n",
      "  Using cached tenacity-9.1.2-py3-none-any.whl.metadata (1.2 kB)\n",
      "Collecting toml<2,>=0.10.1 (from streamlit)\n",
      "  Using cached toml-0.10.2-py2.py3-none-any.whl.metadata (7.1 kB)\n",
      "Requirement already satisfied: typing-extensions<5,>=4.4.0 in c:\\users\\pmls\\documents\\data analyst boot camp\\python\\venv\\lib\\site-packages (from streamlit) (4.15.0)\n",
      "Collecting watchdog<7,>=2.1.5 (from streamlit)\n",
      "  Using cached watchdog-6.0.0-py3-none-win_amd64.whl.metadata (44 kB)\n",
      "Collecting gitpython!=3.1.19,<4,>=3.0.7 (from streamlit)\n",
      "  Using cached gitpython-3.1.45-py3-none-any.whl.metadata (13 kB)\n",
      "Collecting pydeck<1,>=0.8.0b4 (from streamlit)\n",
      "  Using cached pydeck-0.9.1-py2.py3-none-any.whl.metadata (4.1 kB)\n",
      "Requirement already satisfied: tornado!=6.5.0,<7,>=6.0.3 in c:\\users\\pmls\\documents\\data analyst boot camp\\python\\venv\\lib\\site-packages (from streamlit) (6.4.2)\n",
      "Requirement already satisfied: PyYAML>=5.1 in c:\\users\\pmls\\documents\\data analyst boot camp\\python\\venv\\lib\\site-packages (from pyngrok) (6.0.2)\n",
      "Requirement already satisfied: jinja2 in c:\\users\\pmls\\documents\\data analyst boot camp\\python\\venv\\lib\\site-packages (from altair!=5.4.0,!=5.4.1,<6,>=4.0->streamlit) (3.1.6)\n",
      "Collecting jsonschema>=3.0 (from altair!=5.4.0,!=5.4.1,<6,>=4.0->streamlit)\n",
      "  Using cached jsonschema-4.25.1-py3-none-any.whl.metadata (7.6 kB)\n",
      "Collecting narwhals>=1.14.2 (from altair!=5.4.0,!=5.4.1,<6,>=4.0->streamlit)\n",
      "  Downloading narwhals-2.5.0-py3-none-any.whl.metadata (11 kB)\n",
      "Requirement already satisfied: colorama in c:\\users\\pmls\\documents\\data analyst boot camp\\python\\venv\\lib\\site-packages (from click<9,>=7.0->streamlit) (0.4.6)\n",
      "Collecting gitdb<5,>=4.0.1 (from gitpython!=3.1.19,<4,>=3.0.7->streamlit)\n",
      "  Using cached gitdb-4.0.12-py3-none-any.whl.metadata (1.2 kB)\n",
      "Requirement already satisfied: python-dateutil>=2.8.2 in c:\\users\\pmls\\documents\\data analyst boot camp\\python\\venv\\lib\\site-packages (from pandas<3,>=1.4.0->streamlit) (2.9.0.post0)\n",
      "Requirement already satisfied: pytz>=2020.1 in c:\\users\\pmls\\documents\\data analyst boot camp\\python\\venv\\lib\\site-packages (from pandas<3,>=1.4.0->streamlit) (2025.2)\n",
      "Requirement already satisfied: tzdata>=2022.7 in c:\\users\\pmls\\documents\\data analyst boot camp\\python\\venv\\lib\\site-packages (from pandas<3,>=1.4.0->streamlit) (2025.2)\n",
      "Requirement already satisfied: charset-normalizer<4,>=2 in c:\\users\\pmls\\documents\\data analyst boot camp\\python\\venv\\lib\\site-packages (from requests<3,>=2.27->streamlit) (3.4.1)\n",
      "Requirement already satisfied: idna<4,>=2.5 in c:\\users\\pmls\\documents\\data analyst boot camp\\python\\venv\\lib\\site-packages (from requests<3,>=2.27->streamlit) (3.10)\n",
      "Requirement already satisfied: urllib3<3,>=1.21.1 in c:\\users\\pmls\\documents\\data analyst boot camp\\python\\venv\\lib\\site-packages (from requests<3,>=2.27->streamlit) (2.4.0)\n",
      "Requirement already satisfied: certifi>=2017.4.17 in c:\\users\\pmls\\documents\\data analyst boot camp\\python\\venv\\lib\\site-packages (from requests<3,>=2.27->streamlit) (2025.1.31)\n",
      "Collecting smmap<6,>=3.0.1 (from gitdb<5,>=4.0.1->gitpython!=3.1.19,<4,>=3.0.7->streamlit)\n",
      "  Using cached smmap-5.0.2-py3-none-any.whl.metadata (4.3 kB)\n",
      "Requirement already satisfied: MarkupSafe>=2.0 in c:\\users\\pmls\\documents\\data analyst boot camp\\python\\venv\\lib\\site-packages (from jinja2->altair!=5.4.0,!=5.4.1,<6,>=4.0->streamlit) (3.0.2)\n",
      "Requirement already satisfied: attrs>=22.2.0 in c:\\users\\pmls\\documents\\data analyst boot camp\\python\\venv\\lib\\site-packages (from jsonschema>=3.0->altair!=5.4.0,!=5.4.1,<6,>=4.0->streamlit) (25.3.0)\n",
      "Collecting jsonschema-specifications>=2023.03.6 (from jsonschema>=3.0->altair!=5.4.0,!=5.4.1,<6,>=4.0->streamlit)\n",
      "  Using cached jsonschema_specifications-2025.9.1-py3-none-any.whl.metadata (2.9 kB)\n",
      "Collecting referencing>=0.28.4 (from jsonschema>=3.0->altair!=5.4.0,!=5.4.1,<6,>=4.0->streamlit)\n",
      "  Using cached referencing-0.36.2-py3-none-any.whl.metadata (2.8 kB)\n",
      "Collecting rpds-py>=0.7.1 (from jsonschema>=3.0->altair!=5.4.0,!=5.4.1,<6,>=4.0->streamlit)\n",
      "  Downloading rpds_py-0.27.1-cp312-cp312-win_amd64.whl.metadata (4.3 kB)\n",
      "Requirement already satisfied: six>=1.5 in c:\\users\\pmls\\documents\\data analyst boot camp\\python\\venv\\lib\\site-packages (from python-dateutil>=2.8.2->pandas<3,>=1.4.0->streamlit) (1.17.0)\n",
      "Using cached streamlit-1.49.1-py3-none-any.whl (10.0 MB)\n",
      "Downloading pyngrok-7.3.0-py3-none-any.whl (25 kB)\n",
      "Using cached altair-5.5.0-py3-none-any.whl (731 kB)\n",
      "Using cached cachetools-6.2.0-py3-none-any.whl (11 kB)\n",
      "Using cached gitpython-3.1.45-py3-none-any.whl (208 kB)\n",
      "Downloading pyarrow-21.0.0-cp312-cp312-win_amd64.whl (26.2 MB)\n",
      "   ---------------------------------------- 0.0/26.2 MB ? eta -:--:--\n",
      "   ---------------------------------------- 0.3/26.2 MB ? eta -:--:--\n",
      "   - -------------------------------------- 0.8/26.2 MB 2.8 MB/s eta 0:00:10\n",
      "   -- ------------------------------------- 1.3/26.2 MB 2.7 MB/s eta 0:00:10\n",
      "   -- ------------------------------------- 1.8/26.2 MB 2.6 MB/s eta 0:00:10\n",
      "   ---- ----------------------------------- 2.6/26.2 MB 2.6 MB/s eta 0:00:10\n",
      "   ---- ----------------------------------- 3.1/26.2 MB 2.7 MB/s eta 0:00:09\n",
      "   ------ --------------------------------- 3.9/26.2 MB 2.9 MB/s eta 0:00:08\n",
      "   ------ --------------------------------- 4.5/26.2 MB 2.9 MB/s eta 0:00:08\n",
      "   ------- -------------------------------- 5.0/26.2 MB 2.8 MB/s eta 0:00:08\n",
      "   -------- ------------------------------- 5.2/26.2 MB 2.7 MB/s eta 0:00:08\n",
      "   -------- ------------------------------- 5.8/26.2 MB 2.5 MB/s eta 0:00:09\n",
      "   --------- ------------------------------ 6.0/26.2 MB 2.5 MB/s eta 0:00:09\n",
      "   --------- ------------------------------ 6.3/26.2 MB 2.4 MB/s eta 0:00:09\n",
      "   ---------- ----------------------------- 6.6/26.2 MB 2.3 MB/s eta 0:00:09\n",
      "   ---------- ----------------------------- 6.8/26.2 MB 2.2 MB/s eta 0:00:09\n",
      "   ---------- ----------------------------- 7.1/26.2 MB 2.2 MB/s eta 0:00:09\n",
      "   ----------- ---------------------------- 7.3/26.2 MB 2.1 MB/s eta 0:00:09\n",
      "   ----------- ---------------------------- 7.6/26.2 MB 2.1 MB/s eta 0:00:09\n",
      "   ------------ --------------------------- 8.1/26.2 MB 2.1 MB/s eta 0:00:09\n",
      "   ------------ --------------------------- 8.1/26.2 MB 2.1 MB/s eta 0:00:09\n",
      "   ------------ --------------------------- 8.1/26.2 MB 2.1 MB/s eta 0:00:09\n",
      "   ------------ --------------------------- 8.4/26.2 MB 1.9 MB/s eta 0:00:10\n",
      "   ------------- -------------------------- 8.9/26.2 MB 1.9 MB/s eta 0:00:10\n",
      "   -------------- ------------------------- 9.2/26.2 MB 1.9 MB/s eta 0:00:10\n",
      "   -------------- ------------------------- 9.4/26.2 MB 1.8 MB/s eta 0:00:10\n",
      "   --------------- ------------------------ 10.0/26.2 MB 1.8 MB/s eta 0:00:09\n",
      "   --------------- ------------------------ 10.2/26.2 MB 1.8 MB/s eta 0:00:09\n",
      "   --------------- ------------------------ 10.2/26.2 MB 1.8 MB/s eta 0:00:09\n",
      "   ---------------- ----------------------- 10.5/26.2 MB 1.7 MB/s eta 0:00:10\n",
      "   ---------------- ----------------------- 10.7/26.2 MB 1.7 MB/s eta 0:00:09\n",
      "   ----------------- ---------------------- 11.3/26.2 MB 1.7 MB/s eta 0:00:09\n",
      "   ----------------- ---------------------- 11.5/26.2 MB 1.7 MB/s eta 0:00:09\n",
      "   ------------------ --------------------- 12.1/26.2 MB 1.7 MB/s eta 0:00:09\n",
      "   ------------------ --------------------- 12.3/26.2 MB 1.7 MB/s eta 0:00:08\n",
      "   ------------------- -------------------- 12.8/26.2 MB 1.8 MB/s eta 0:00:08\n",
      "   -------------------- ------------------- 13.4/26.2 MB 1.8 MB/s eta 0:00:08\n",
      "   --------------------- ------------------ 13.9/26.2 MB 1.8 MB/s eta 0:00:07\n",
      "   ---------------------- ----------------- 14.4/26.2 MB 1.8 MB/s eta 0:00:07\n",
      "   ---------------------- ----------------- 14.9/26.2 MB 1.8 MB/s eta 0:00:07\n",
      "   ----------------------- ---------------- 15.5/26.2 MB 1.9 MB/s eta 0:00:06\n",
      "   ------------------------ --------------- 16.3/26.2 MB 1.9 MB/s eta 0:00:06\n",
      "   ------------------------- -------------- 16.8/26.2 MB 1.9 MB/s eta 0:00:05\n",
      "   -------------------------- ------------- 17.3/26.2 MB 1.9 MB/s eta 0:00:05\n",
      "   -------------------------- ------------- 17.6/26.2 MB 1.9 MB/s eta 0:00:05\n",
      "   --------------------------- ------------ 18.1/26.2 MB 1.9 MB/s eta 0:00:05\n",
      "   ---------------------------- ----------- 18.4/26.2 MB 1.9 MB/s eta 0:00:05\n",
      "   ---------------------------- ----------- 18.6/26.2 MB 1.9 MB/s eta 0:00:04\n",
      "   ----------------------------- ---------- 19.1/26.2 MB 1.9 MB/s eta 0:00:04\n",
      "   ------------------------------ --------- 19.7/26.2 MB 1.9 MB/s eta 0:00:04\n",
      "   ------------------------------ --------- 19.7/26.2 MB 1.9 MB/s eta 0:00:04\n",
      "   ------------------------------ --------- 19.7/26.2 MB 1.9 MB/s eta 0:00:04\n",
      "   ------------------------------ --------- 19.9/26.2 MB 1.8 MB/s eta 0:00:04\n",
      "   ------------------------------ --------- 20.2/26.2 MB 1.8 MB/s eta 0:00:04\n",
      "   ------------------------------ --------- 20.2/26.2 MB 1.8 MB/s eta 0:00:04\n",
      "   ------------------------------- -------- 20.4/26.2 MB 1.8 MB/s eta 0:00:04\n",
      "   ------------------------------- -------- 20.7/26.2 MB 1.8 MB/s eta 0:00:04\n",
      "   -------------------------------- ------- 21.2/26.2 MB 1.8 MB/s eta 0:00:03\n",
      "   -------------------------------- ------- 21.5/26.2 MB 1.8 MB/s eta 0:00:03\n",
      "   --------------------------------- ------ 22.0/26.2 MB 1.8 MB/s eta 0:00:03\n",
      "   --------------------------------- ------ 22.0/26.2 MB 1.8 MB/s eta 0:00:03\n",
      "   --------------------------------- ------ 22.0/26.2 MB 1.8 MB/s eta 0:00:03\n",
      "   ---------------------------------- ----- 22.3/26.2 MB 1.7 MB/s eta 0:00:03\n",
      "   ---------------------------------- ----- 22.3/26.2 MB 1.7 MB/s eta 0:00:03\n",
      "   ---------------------------------- ----- 22.3/26.2 MB 1.7 MB/s eta 0:00:03\n",
      "   ---------------------------------- ----- 22.5/26.2 MB 1.7 MB/s eta 0:00:03\n",
      "   ---------------------------------- ----- 22.8/26.2 MB 1.7 MB/s eta 0:00:03\n",
      "   ----------------------------------- ---- 23.1/26.2 MB 1.7 MB/s eta 0:00:02\n",
      "   ------------------------------------ --- 23.6/26.2 MB 1.7 MB/s eta 0:00:02\n",
      "   ------------------------------------ --- 23.9/26.2 MB 1.7 MB/s eta 0:00:02\n",
      "   ------------------------------------- -- 24.4/26.2 MB 1.7 MB/s eta 0:00:02\n",
      "   -------------------------------------- - 24.9/26.2 MB 1.7 MB/s eta 0:00:01\n",
      "   -------------------------------------- - 25.2/26.2 MB 1.7 MB/s eta 0:00:01\n",
      "   ---------------------------------------  25.7/26.2 MB 1.7 MB/s eta 0:00:01\n",
      "   ---------------------------------------  26.0/26.2 MB 1.7 MB/s eta 0:00:01\n",
      "   ---------------------------------------- 26.2/26.2 MB 1.7 MB/s eta 0:00:00\n",
      "Using cached pydeck-0.9.1-py2.py3-none-any.whl (6.9 MB)\n",
      "Using cached tenacity-9.1.2-py3-none-any.whl (28 kB)\n",
      "Using cached toml-0.10.2-py2.py3-none-any.whl (16 kB)\n",
      "Using cached watchdog-6.0.0-py3-none-win_amd64.whl (79 kB)\n",
      "Using cached gitdb-4.0.12-py3-none-any.whl (62 kB)\n",
      "Using cached jsonschema-4.25.1-py3-none-any.whl (90 kB)\n",
      "Downloading narwhals-2.5.0-py3-none-any.whl (407 kB)\n",
      "Using cached jsonschema_specifications-2025.9.1-py3-none-any.whl (18 kB)\n",
      "Using cached referencing-0.36.2-py3-none-any.whl (26 kB)\n",
      "Downloading rpds_py-0.27.1-cp312-cp312-win_amd64.whl (232 kB)\n",
      "Using cached smmap-5.0.2-py3-none-any.whl (24 kB)\n",
      "Installing collected packages: watchdog, toml, tenacity, smmap, rpds-py, pyngrok, pyarrow, narwhals, cachetools, referencing, pydeck, gitdb, jsonschema-specifications, gitpython, jsonschema, altair, streamlit\n",
      "Successfully installed altair-5.5.0 cachetools-6.2.0 gitdb-4.0.12 gitpython-3.1.45 jsonschema-4.25.1 jsonschema-specifications-2025.9.1 narwhals-2.5.0 pyarrow-21.0.0 pydeck-0.9.1 pyngrok-7.3.0 referencing-0.36.2 rpds-py-0.27.1 smmap-5.0.2 streamlit-1.49.1 tenacity-9.1.2 toml-0.10.2 watchdog-6.0.0\n"
     ]
    }
   ],
   "source": [
    "!pip install streamlit pyngrok\n"
   ]
  },
  {
   "cell_type": "code",
   "execution_count": 17,
   "id": "27e058f9",
   "metadata": {},
   "outputs": [
    {
     "name": "stdout",
     "output_type": "stream",
     "text": [
      "Overwriting application.py\n"
     ]
    }
   ],
   "source": [
    "%%writefile application.py\n",
    "import streamlit as st\n",
    "\n",
    "st.set_page_config(page_title=\"Crop Disease Detector\", page_icon=\"🌱\", layout=\"wide\")\n",
    "\n",
    "st.title(\"🌱 Crop Disease Detector\")\n",
    "st.markdown(\"\"\"\n",
    "Welcome to the **AI-powered Crop Disease Detector**!  \n",
    "This tool helps identify crop diseases using deep learning models (ConvNeXt-Tiny & EfficientNet).  \n",
    "\n",
    "👉 Use the sidebar to explore:\n",
    "- **About the app**  \n",
    "- **Model details**  \n",
    "- **Test the model with your images**\n",
    "\"\"\")\n",
    "\n",
    "\n",
    "col1, col2, col3 = st.columns(3)\n",
    "\n",
    "with col1:\n",
    "    st.image(\"imagesforfrontpage/crop1.jpeg\",\n",
    "             caption=\"Make Crop farming Sustainable\", use_container_width=True)\n",
    "\n",
    "with col2:\n",
    "    st.image(\"imagesforfrontpage/crop2.jpeg\",\n",
    "             caption=\"Detect Diseases faster\", use_container_width=True)\n",
    "\n",
    "with col3:\n",
    "    st.image(\"imagesforfrontpage/crop3.jpeg\",\n",
    "             caption=\"Reliable\", use_container_width=True)\n",
    "\n",
    "st.markdown(\"---\")\n",
    "st.info(\"💡 Try uploading your own crop images on the **Test Model** page!\")\n",
    "\n"
   ]
  },
  {
   "cell_type": "code",
   "execution_count": 18,
   "id": "e1a36db4",
   "metadata": {},
   "outputs": [
    {
     "name": "stdout",
     "output_type": "stream",
     "text": [
      "^C\n"
     ]
    }
   ],
   "source": [
    "!python -m streamlit run application.py\n"
   ]
  },
  {
   "cell_type": "code",
   "execution_count": 3,
   "id": "f3a869b1",
   "metadata": {},
   "outputs": [
    {
     "name": "stdout",
     "output_type": "stream",
     "text": [
      "2.19.0\n",
      "3.9.2\n"
     ]
    }
   ],
   "source": [
    "import tensorflow as tf\n",
    "print(tf.__version__)\n",
    "from tensorflow import keras\n",
    "print(keras.__version__)\n"
   ]
  },
  {
   "cell_type": "code",
   "execution_count": 12,
   "id": "10700e1b",
   "metadata": {},
   "outputs": [
    {
     "name": "stdout",
     "output_type": "stream",
     "text": [
      "[+] Loading Rice model from models/rice_model_best (2).h5...\n",
      "[+] Rice model saved as RGB at models/rice_Efficientnetb3_rgb.keras\n",
      "[+] Loading Cotton model from models/Cotton_Efficientnetb3.keras...\n",
      "[+] Cotton model saved as RGB at models/Cotton_Efficientnetb3_rgb.keras\n"
     ]
    }
   ],
   "source": [
    "import tensorflow as tf\n",
    "import os\n",
    "\n",
    "# ------------------------------\n",
    "# Paths to your old models\n",
    "# ------------------------------\n",
    "model_paths = {\n",
    "    \"Rice\": \"models/rice_model_best (2).h5\",               # Change to your actual rice model path\n",
    "    \"Cotton\": \"models/Cotton_Efficientnetb3.keras\"\n",
    "    \"\"    # Change to your actual cotton model path\n",
    "}\n",
    "\n",
    "# ------------------------------\n",
    "# Output paths for RGB-fixed models\n",
    "# ------------------------------\n",
    "output_paths = {\n",
    "    \"Rice\": \"models/rice_Efficientnetb3_rgb.keras\",\n",
    "    \"Cotton\": \"models/Cotton_Efficientnetb3_rgb.keras\"\n",
    "}\n",
    "\n",
    "# ------------------------------\n",
    "# Resave models with RGB input\n",
    "# ------------------------------\n",
    "for crop, path in model_paths.items():\n",
    "    if not os.path.exists(path):\n",
    "        print(f\"[!] Model file for {crop} not found at {path}. Skipping...\")\n",
    "        continue\n",
    "\n",
    "    print(f\"[+] Loading {crop} model from {path}...\")\n",
    "    model = tf.keras.models.load_model(path, compile=False)\n",
    "\n",
    "    # Create new RGB input layer\n",
    "    inputs = tf.keras.Input(shape=(224, 224, 3))\n",
    "    outputs = model(inputs)\n",
    "    fixed_model = tf.keras.Model(inputs, outputs)\n",
    "\n",
    "    # Save the new model\n",
    "    out_path = output_paths[crop]\n",
    "    fixed_model.save(out_path)\n",
    "    print(f\"[+] {crop} model saved as RGB at {out_path}\")\n"
   ]
  },
  {
   "cell_type": "code",
   "execution_count": null,
   "id": "004d1735",
   "metadata": {},
   "outputs": [],
   "source": []
  },
  {
   "cell_type": "code",
   "execution_count": null,
   "id": "3fc55c89",
   "metadata": {},
   "outputs": [],
   "source": []
  },
  {
   "cell_type": "code",
   "execution_count": null,
   "id": "08bb7ef9",
   "metadata": {},
   "outputs": [],
   "source": []
  }
 ],
 "metadata": {
  "kernelspec": {
   "display_name": "Python 3",
   "language": "python",
   "name": "python3"
  },
  "language_info": {
   "codemirror_mode": {
    "name": "ipython",
    "version": 3
   },
   "file_extension": ".py",
   "mimetype": "text/x-python",
   "name": "python",
   "nbconvert_exporter": "python",
   "pygments_lexer": "ipython3",
   "version": "3.12.0"
  }
 },
 "nbformat": 4,
 "nbformat_minor": 5
}
